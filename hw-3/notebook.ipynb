{
 "cells": [
  {
   "cell_type": "markdown",
   "id": "6388bbe0",
   "metadata": {},
   "source": [
    "## Домашнее задание – 3 (Использование VSSD)\n",
    "\n",
    "### Задача:\n",
    "Изучить архитектуру VSSD (Vision Mamba with Non-Causal State Space Duality) и проверить ее эффективность на собственных данных. В новой статье которую разбирали (ICCV-25) (https://openaccess.thecvf.com/content/ICCV2025/html/Shi_VSSD_Vision_Mamba_with_Non-Causal_State_Space_Duality_ICCV_2025_paper.html) этот метод применялся для «просмотра будущего» (каждый токен в изображении вносит вклад в скрытое состояние независимо от порядка сканирования).\n",
    "\n",
    "### Инструкция:\n",
    "1. Определить вычислительную конфигурацию\n",
    "2. Выбрать корпус (визуальный), подходящий под задачу\n",
    "3. Прогнать данные через VSSD (обучить)\n",
    "4. Построить графики/визуализации\n",
    "5. Обучить аналог (выбираем по желанию) и сравнить с VSSD\n",
    "6. Сделать заключение\n",
    "\n",
    "### В итоге\n",
    "- Код экспериментов (ноутбук или py с полным pipeline)\n",
    "- Таблица и графики с результатами\n",
    "- Выводы о том насколько VSSD улучшает результаты по сравнению с аналогом или аналогами для вашей задачи"
   ]
  },
  {
   "cell_type": "code",
   "execution_count": 1,
   "id": "a7ab8812",
   "metadata": {},
   "outputs": [],
   "source": [
    "pass"
   ]
  },
  {
   "cell_type": "code",
   "execution_count": null,
   "id": "238bdb30",
   "metadata": {},
   "outputs": [],
   "source": []
  }
 ],
 "metadata": {
  "kernelspec": {
   "display_name": "venv",
   "language": "python",
   "name": "python3"
  },
  "language_info": {
   "codemirror_mode": {
    "name": "ipython",
    "version": 3
   },
   "file_extension": ".py",
   "mimetype": "text/x-python",
   "name": "python",
   "nbconvert_exporter": "python",
   "pygments_lexer": "ipython3",
   "version": "3.12.3"
  }
 },
 "nbformat": 4,
 "nbformat_minor": 5
}
