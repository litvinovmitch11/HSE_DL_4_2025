{
 "cells": [
  {
   "cell_type": "markdown",
   "id": "380e684c",
   "metadata": {},
   "source": [
    "## Домашнее задание – 4 (Использование DEER)\n",
    "\n",
    "### Задача:\n",
    "Изучить архитектуру DEER (Label-Guided In-Context Learning for Named Entity Recognition) и проверить ее эффективность на собственных данных. В новой статье которую разбирали (https://arxiv.org/abs/2505.23722) принята на EMNLP-25 в Main секцию (весь список тут (https://docs.google.com/spreadsheets/d/1V7EPtR8xq4kqUaShcGmm3wE-T1Ge730TA36Fkbz7jT8/edit?gid=0#gid=0)).\n",
    "\n",
    "### Инструкция:\n",
    "1. Определить вычислительную конфигурацию\n",
    "2. Выбрать корпус (текстовый), какой хотим проверить\n",
    "3. Применить DEER (можно свою реализацию или модификацию)\n",
    "4. Построить графики/визуализации\n",
    "5. Сделать заключение\n",
    "\n",
    "### В итоге\n",
    "- Код экспериментов (ноутбук или py с полным pipeline)\n",
    "- Таблица и графики с результатами\n",
    "- Выводы о том насколько DEER показал себя (хорошо или плохо)"
   ]
  },
  {
   "cell_type": "code",
   "execution_count": 1,
   "id": "a7ab8812",
   "metadata": {},
   "outputs": [],
   "source": [
    "pass"
   ]
  },
  {
   "cell_type": "code",
   "execution_count": null,
   "id": "238bdb30",
   "metadata": {},
   "outputs": [],
   "source": []
  }
 ],
 "metadata": {
  "kernelspec": {
   "display_name": "venv",
   "language": "python",
   "name": "python3"
  },
  "language_info": {
   "codemirror_mode": {
    "name": "ipython",
    "version": 3
   },
   "file_extension": ".py",
   "mimetype": "text/x-python",
   "name": "python",
   "nbconvert_exporter": "python",
   "pygments_lexer": "ipython3",
   "version": "3.12.3"
  }
 },
 "nbformat": 4,
 "nbformat_minor": 5
}
